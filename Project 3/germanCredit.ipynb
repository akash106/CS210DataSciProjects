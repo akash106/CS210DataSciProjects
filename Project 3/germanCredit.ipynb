{
 "cells": [
  {
   "cell_type": "code",
   "execution_count": 1,
   "metadata": {},
   "outputs": [
    {
     "ename": "ModuleNotFoundError",
     "evalue": "No module named 'pandas'",
     "output_type": "error",
     "traceback": [
      "\u001b[0;31m---------------------------------------------------------------------------\u001b[0m",
      "\u001b[0;31mModuleNotFoundError\u001b[0m                       Traceback (most recent call last)",
      "Cell \u001b[0;32mIn [1], line 3\u001b[0m\n\u001b[1;32m      1\u001b[0m \u001b[38;5;66;03m#Part 2.1\u001b[39;00m\n\u001b[0;32m----> 3\u001b[0m \u001b[38;5;28;01mimport\u001b[39;00m \u001b[38;5;21;01mpandas\u001b[39;00m \u001b[38;5;28;01mas\u001b[39;00m \u001b[38;5;21;01mpd\u001b[39;00m\n\u001b[1;32m      5\u001b[0m df \u001b[38;5;241m=\u001b[39m pd\u001b[38;5;241m.\u001b[39mread_csv(\u001b[38;5;124m'\u001b[39m\u001b[38;5;124mGermanCredit.csv\u001b[39m\u001b[38;5;124m'\u001b[39m)\n",
      "\u001b[0;31mModuleNotFoundError\u001b[0m: No module named 'pandas'"
     ]
    }
   ],
   "source": [
    "# Part 2\n",
    "\n",
    "import pandas as pd\n",
    "import numpy as np \n",
    "import matplotlib.pyplot as plt\n",
    "\n",
    "df = pd.read_csv('GermanCredit.csv')\n",
    "\n",
    "\n",
    "# 1.1\n",
    "# for col in df.items():\n",
    "#     print(col)\n",
    "# length_df = len(df)\n",
    "# for ind in df.index:\n",
    "#     print(\"hi\")\n",
    "#     df[ind].isna().sum()\n",
    "# df.applymap(lambda x: np.round(np.cumsum(x),2))\n",
    "\n",
    "# 1.2\n",
    "df.replace('\\'','', regex=True, inplace=True)\n",
    "\n",
    "# 1.3\n",
    "df['checking_status'] = df['checking_status'].replace('no checking','No Checking')\n",
    "df['checking_status'] = df['checking_status'].replace('<0','Low')\n",
    "df['checking_status'] = df['checking_status'].replace('0<=X<200','Medium')\n",
    "df['checking_status'] = df['checking_status'].replace('>=200','High')\n",
    "\n",
    "# 1.4\n",
    "df['savings_status'] = df['savings_status'].replace('no known savings','No Savings')\n",
    "df['savings_status'] = df['savings_status'].replace('<100','Low')\n",
    "df['savings_status'] = df['savings_status'].replace('100<=X<500','Medium')\n",
    "df['savings_status'] = df['savings_status'].replace('500<=X<1000','High')\n",
    "df['savings_status'] = df['savings_status'].replace('>=1000','High')\n",
    "\n",
    "# 1.5\n",
    "df['class'] = df['class'].replace('good',1)\n",
    "df['class'] = df['class'].replace('bad',0)\n",
    "df['employment'] = df['employment'].replace('unemployed','Unemployed')\n",
    "df['employment'] = df['employment'].replace('<1','Amateur')\n",
    "df['employment'] = df['employment'].replace('1<=X<4','Professional')\n",
    "df['employment'] = df['employment'].replace('4<=X<7','Experienced')\n",
    "df['employment'] = df['employment'].replace('>=7','Expert')\n",
    "\n",
    "# 2.1\n",
    "print(pd.crosstab(df['foreign_worker'], df['class'].replace([1, 0], ['good', 'bad'])))\n",
    "print(pd.crosstab(df['employment'],df['savings_status']))\n",
    "\n",
    "# 2.2\n",
    "print(df[(df['personal_status'] == 'male single') & ((df['employment'] == 'Experienced'))]['credit_amount'].mean())\n",
    "\n",
    "# 2.3\n",
    "print(df['duration'].groupby(df['job']).mean())\n",
    "\n",
    "# 2.4\n",
    "print('Most common checking status: ' + df[df['purpose'] == 'education']['checking_status'].mode()[0])\n",
    "print('Most common savings status: ' + df[df['purpose'] == 'education']['savings_status'].mode()[0])\n",
    "\n",
    "# 3.1\n",
    "\n",
    "# 3.2\n",
    "\n",
    "# 3.3"
   ]
  }
 ],
 "metadata": {
  "kernelspec": {
   "display_name": "Python 3.8.10 64-bit",
   "language": "python",
   "name": "python3"
  },
  "language_info": {
   "codemirror_mode": {
    "name": "ipython",
    "version": 3
   },
   "file_extension": ".py",
   "mimetype": "text/x-python",
   "name": "python",
   "nbconvert_exporter": "python",
   "pygments_lexer": "ipython3",
   "version": "3.8.9"
  },
  "orig_nbformat": 4,
  "vscode": {
   "interpreter": {
    "hash": "916dbcbb3f70747c44a77c7bcd40155683ae19c65e1c03b4aa3499c5328201f1"
   }
  }
 },
 "nbformat": 4,
 "nbformat_minor": 2
}
