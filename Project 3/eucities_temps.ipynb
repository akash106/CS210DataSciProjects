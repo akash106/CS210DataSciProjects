{
 "cells": [
  {
   "cell_type": "code",
   "execution_count": 1,
   "metadata": {},
   "outputs": [],
   "source": [
    "#Part 1.1\n",
    "\n",
    "import pandas as pd\n",
    "import numpy as np \n",
    "import matplotlib.pyplot as plt\n",
    "\n",
    "df = pd.read_csv('EuCitiesTemperatures.csv')\n",
    "avgLatitude = df.groupby('country')['latitude'].mean().round(2)\n",
    "avgLongitude = df.groupby('country')['longitude'].mean().round(2)\n",
    "avgLatitude.round(2)\n",
    "avgLongitude.round(2)\n",
    "\n",
    "countryLatList = avgLatitude.index.tolist()\n",
    "countryLongList = avgLongitude.index.tolist()\n",
    "\n",
    "for ind in df.index:\n",
    "    if np.isnan(df['latitude'][ind]):\n",
    "        df.at[ind, 'latitude'] = avgLatitude[df['country'][ind]]\n",
    "    if np.isnan(df['longitude'][ind]):\n",
    "        df.at[ind, 'longitude'] = avgLongitude[df['country'][ind]]\n",
    "\n",
    "\n",
    "\n",
    "\n"
   ]
  },
  {
   "cell_type": "code",
   "execution_count": 2,
   "metadata": {},
   "outputs": [
    {
     "name": "stdout",
     "output_type": "stream",
     "text": [
      "9\n",
      "['Poland', 'Romania']\n"
     ]
    }
   ],
   "source": [
    "#Part 1.2\n",
    "modified_df = df[(df['latitude'].between(40,60)) & (df['longitude'].between(15,30))]\n",
    "countries = modified_df.groupby('country').count()\n",
    "maxCount = 0\n",
    "\n",
    "for ind in countries.index:\n",
    "    if countries['city'][ind] > maxCount:\n",
    "        maxCount = countries['city'][ind]\n",
    "\n",
    "print(maxCount)\n",
    "\n",
    "countryList = []\n",
    "for ind in countries.index:\n",
    "    if countries['city'][ind] == maxCount:\n",
    "        countryList.append(ind)\n",
    "\n",
    "print(countryList)\n",
    "\n",
    "\n"
   ]
  },
  {
   "cell_type": "code",
   "execution_count": 3,
   "metadata": {},
   "outputs": [],
   "source": [
    "#Part 1.3\n",
    "\n",
    "noCoastline = df[(df['coastline'] == 'no') & (df['EU'] == 'yes') ]\n",
    "noEU = df[(df['coastline'] == 'yes') & (df['EU'] == 'no')]\n",
    "CoastlineAndEu = df[(df['coastline'] == 'yes') & (df['EU'] == 'yes')]\n",
    "noCoastlineAndEu =  df[(df['coastline'] == 'no') & (df['EU'] == 'no')]\n",
    "\n",
    "noCoastlineAvgTemp = noCoastline['temperature'].mean().round(2)\n",
    "noEUAvgTemp = noEU['temperature'].mean().round(2)\n",
    "CoastlineAndEuAvgTemp = CoastlineAndEu['temperature'].mean().round(2)\n",
    "noCoastlineAndEuAvgTemp = noCoastlineAndEu['temperature'].mean().round(2)\n",
    "\n",
    "for ind in df.index:\n",
    "    if np.isnan(df['temperature'][ind]):\n",
    "        if df['coastline'][ind] == 'yes' and df['EU'][ind] == 'yes':\n",
    "            df.at[ind, 'temperature'] = CoastlineAndEuAvgTemp\n",
    "        elif df['coastline'][ind] == 'no' and df['EU'][ind] == 'no':\n",
    "             df.at[ind, 'temperature'] = noCoastlineAndEuAvgTemp\n",
    "        elif df['coastline'][ind] == 'yes':\n",
    "             df.at[ind, 'temperature'] = noEUAvgTemp\n",
    "        else:\n",
    "             df.at[ind, 'temperature'] = noCoastlineAvgTemp\n",
    "\n",
    "\n",
    "\n"
   ]
  },
  {
   "cell_type": "code",
   "execution_count": 4,
   "metadata": {},
   "outputs": [
    {
     "data": {
      "image/png": "[encoded data removed]",
      "text/plain": [
       "<Figure size 640x480 with 1 Axes>"
      ]
     },
     "metadata": {},
     "output_type": "display_data"
    }
   ],
   "source": [
    "#Visualization\n",
    "#Part 1.4\n",
    "\n",
    "regionFrequency = {\n",
    "    'noCoastLineAndEu' : 0,\n",
    "    'CoastlineAndEu': 0,\n",
    "    'CoastLineButNoEu': 0,\n",
    "    'EuButNoCoastLine' : 0\n",
    "}\n",
    "\n",
    "\n",
    "for ind in df.index:\n",
    "    if df['coastline'][ind] == 'yes' and df['EU'][ind] == 'yes':\n",
    "        regionFrequency['CoastlineAndEu'] += 1\n",
    "    elif df['coastline'][ind] == 'no' and df['EU'][ind] == 'no':\n",
    "        regionFrequency['noCoastLineAndEu'] += 1\n",
    "    elif df['coastline'][ind] == 'yes':\n",
    "        regionFrequency['CoastLineButNoEu'] += 1\n",
    "    else:\n",
    "        regionFrequency['EuButNoCoastLine'] += 1\n",
    "\n",
    "\n",
    "regionTypes = list(regionFrequency.keys())\n",
    "frequencies = list(regionFrequency.values())\n",
    "plt.bar(regionTypes, frequencies, color = 'maroon', width = 0.4)\n",
    "plt.xlabel('Region Types')\n",
    "plt.ylabel('Number of cities in each region')\n",
    "\n",
    "plt.show()\n"
   ]
  },
  {
   "cell_type": "code",
   "execution_count": 20,
   "metadata": {},
   "outputs": [
    {
     "name": "stdout",
     "output_type": "stream",
     "text": [
      "country\n",
      "Albania                               [41.12]\n",
      "Andorra                                [42.5]\n",
      "Austria    [47.85, 47.08, 48.32, 47.81, 48.2]\n",
      "Belarus           [52.61, 52.1, 53.68, 52.05]\n",
      "Belgium                               [51.22]\n",
      "dtype: object\n",
      "country\n",
      "Albania                         [20.08]\n",
      "Andorra                          [1.52]\n",
      "Austria    [11.41, 14.02, 14.29, 16.37]\n",
      "Belarus            [27.57, 25.64, 23.7]\n",
      "Belgium                          [3.23]\n",
      "dtype: object\n"
     ]
    }
   ],
   "source": [
    "#Visualization\n",
    "#Part 1.2\n",
    "\n",
    "countries = df.groupby('country')\n",
    "modified_countries = countries.apply(lambda x: x['latitude'].unique())\n",
    "print(modified_countries.head())\n",
    "\n",
    "\n",
    "countries2 = df.groupby('country')\n",
    "modified_countries2 = countries2.apply(lambda x: x['longitude'].unique())\n",
    "print(modified_countries2.head())"
   ]
  }
 ],
 "metadata": {
  "kernelspec": {
   "display_name": "Python 3.8.10 64-bit",
   "language": "python",
   "name": "python3"
  },
  "language_info": {
   "codemirror_mode": {
    "name": "ipython",
    "version": 3
   },
   "file_extension": ".py",
   "mimetype": "text/x-python",
   "name": "python",
   "nbconvert_exporter": "python",
   "pygments_lexer": "ipython3",
   "version": "3.8.10"
  },
  "orig_nbformat": 4,
  "vscode": {
   "interpreter": {
    "hash": "916dbcbb3f70747c44a77c7bcd40155683ae19c65e1c03b4aa3499c5328201f1"
   }
  }
 },
 "nbformat": 4,
 "nbformat_minor": 2
}
