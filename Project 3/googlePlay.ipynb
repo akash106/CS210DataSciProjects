{
 "cells": [
  {
   "cell_type": "code",
   "execution_count": 145,
   "metadata": {},
   "outputs": [
    {
     "name": "stdout",
     "output_type": "stream",
     "text": [
      "                                                 App        Category  Rating  \\\n",
      "0     Photo Editor & Candy Camera & Grid & ScrapBook  ART_AND_DESIGN     4.1   \n",
      "1                                Coloring book moana  ART_AND_DESIGN     3.9   \n",
      "2  U Launcher Lite – FREE Live Cool Themes, Hide ...  ART_AND_DESIGN     4.7   \n",
      "3                              Sketch - Draw & Paint  ART_AND_DESIGN     4.5   \n",
      "4              Pixel Draw - Number Art Coloring Book  ART_AND_DESIGN     4.3   \n",
      "\n",
      "  Reviews  Size     Installs  Type Price Content Rating  \\\n",
      "0     159   19M      10,000+  Free     0       Everyone   \n",
      "1     967   14M     500,000+  Free     0       Everyone   \n",
      "2   87510  8.7M   5,000,000+  Free     0       Everyone   \n",
      "3  215644   25M  50,000,000+  Free     0           Teen   \n",
      "4     967  2.8M     100,000+  Free     0       Everyone   \n",
      "\n",
      "                      Genres         Last Updated         Current Ver  \\\n",
      "0               Art & Design  2018-01-07 00:00:00               1.0.0   \n",
      "1  Art & Design;Pretend Play  2018-01-15 00:00:00               2.0.0   \n",
      "2               Art & Design  2018-08-01 00:00:00               1.2.4   \n",
      "3               Art & Design  2018-06-08 00:00:00  Varies with device   \n",
      "4    Art & Design;Creativity  2018-06-20 00:00:00                 1.1   \n",
      "\n",
      "    Android Ver  \n",
      "0  4.0.3 and up  \n",
      "1  4.0.3 and up  \n",
      "2  4.0.3 and up  \n",
      "3    4.2 and up  \n",
      "4    4.4 and up  \n",
      "hit\n"
     ]
    }
   ],
   "source": [
    "#Part 3.1\n",
    "import pandas as pd\n",
    "import numpy as np\n",
    "import matplotlib as plt\n",
    "\n",
    "df = pd.read_excel('GooglePlaystore.xlsx')\n",
    "print(df.head())\n",
    "for ind in df.index:\n",
    "    if df['Reviews'][ind] == '3.0M':\n",
    "        print('hit')\n",
    "        df.drop(ind, axis =0, inplace= True)\n"
   ]
  },
  {
   "cell_type": "code",
   "execution_count": 146,
   "metadata": {},
   "outputs": [],
   "source": [
    "#Part 3.2\n",
    "df = df.replace(\"Varies with device\", np.nan).dropna(axis=0, how='any')\n",
    "\n"
   ]
  },
  {
   "cell_type": "code",
   "execution_count": 147,
   "metadata": {},
   "outputs": [],
   "source": [
    "#Part 3.3\n",
    "\n",
    "#import re\n",
    "\n",
    "#print(df['Android Ver'])\n",
    "#df['Android Ver'] = df['Android Ver'].str.extract('(\\d+)', expand= False)\n",
    "#print(df['Android Ver'])"
   ]
  },
  {
   "cell_type": "code",
   "execution_count": 148,
   "metadata": {},
   "outputs": [
    {
     "name": "stderr",
     "output_type": "stream",
     "text": [
      "/tmp/ipykernel_11381/2813006102.py:3: FutureWarning: The default value of regex will change from True to False in a future version. In addition, single character regular expressions will *not* be treated as literal strings when regex=True.\n",
      "  df['Installs'] = df['Installs'].str.replace(\"+\", \"\")\n"
     ]
    }
   ],
   "source": [
    "#Part 3.4\n",
    "\n",
    "df['Installs'] = df['Installs'].str.replace(\"+\", \"\")\n",
    "df['Installs'] = df['Installs'].str.replace(',', '')\n",
    "df['Installs'] = pd.to_numeric(df['Installs'], errors='coerce')\n",
    "df = df[df.notnull()]\n",
    "\n"
   ]
  },
  {
   "cell_type": "code",
   "execution_count": 149,
   "metadata": {},
   "outputs": [
    {
     "name": "stdout",
     "output_type": "stream",
     "text": [
      "1         14M\n",
      "2        8.7M\n",
      "4        2.8M\n",
      "5        5.6M\n",
      "6         19M\n",
      "         ... \n",
      "10814     31M\n",
      "10815    4.9M\n",
      "10817    8.0M\n",
      "10830    2.3M\n",
      "10832    582k\n",
      "Name: Size, Length: 4918, dtype: object\n",
      "1        14000000.0\n",
      "2         8700000.0\n",
      "4         2800000.0\n",
      "5         5600000.0\n",
      "6        19000000.0\n",
      "            ...    \n",
      "10814    31000000.0\n",
      "10815     4900000.0\n",
      "10817     8000000.0\n",
      "10830     2300000.0\n",
      "10832          582k\n",
      "Name: Size, Length: 4918, dtype: object\n"
     ]
    }
   ],
   "source": [
    "#Part 3.5 and 3.6\n",
    "\n",
    "avgInstallsByCategory = df.groupby('Category')['Installs'].mean().round(2)\n",
    "\n",
    "df = df[(df['Installs'] >= 50000) & (df['Reviews'] >= 100)]\n",
    "\n",
    "for ind in df.index:\n",
    "    if np.isnan(df['Installs'][ind]):\n",
    "        df.at[ind, 'Installs'] = avgInstallsByCategory[df['Category'][ind]]\n",
    "\n",
    "print(df['Size'])\n",
    "\n",
    "for ind in df.index:\n",
    "    if df['Size'][ind].endswith(\"M\"):\n",
    "        df.at[ind, 'Size'] = float(df['Size'][ind][:-1]) * 10 ** 6\n",
    "    elif df['Size'][ind].endswith(\"K\"):\n",
    "        df.at[ind, 'Size'] = float(df['Size'][ind][:-1]) * 10 ** 3\n",
    "\n",
    "\n",
    "\n",
    "\n",
    "\n",
    "print(df['Size'])\n"
   ]
  },
  {
   "cell_type": "code",
   "execution_count": 150,
   "metadata": {},
   "outputs": [
    {
     "name": "stdout",
     "output_type": "stream",
     "text": [
      "                    Rating                                                    \\\n",
      "                     count      mean       std  min    25%   50%    75%  max   \n",
      "Category                                                                       \n",
      "ART_AND_DESIGN        38.0  4.318421  0.331137  3.4  4.100  4.35  4.600  4.8   \n",
      "AUTO_AND_VEHICLES     41.0  4.268293  0.395878  3.2  4.000  4.30  4.500  4.9   \n",
      "BEAUTY                20.0  4.330000  0.341976  3.7  4.075  4.35  4.625  4.9   \n",
      "BOOKS_AND_REFERENCE   78.0  4.378205  0.354799  3.3  4.200  4.50  4.600  4.9   \n",
      "BUSINESS             109.0  4.210092  0.409142  2.7  4.100  4.30  4.500  4.8   \n",
      "COMICS                30.0  4.146667  0.510398  3.2  3.825  4.30  4.575  4.8   \n",
      "COMMUNICATION        134.0  4.171642  0.307454  3.0  4.000  4.20  4.400  4.8   \n",
      "DATING               107.0  3.901869  0.568178  1.9  3.650  4.10  4.200  4.8   \n",
      "EDUCATION            101.0  4.402970  0.245135  3.5  4.300  4.40  4.600  4.9   \n",
      "ENTERTAINMENT         85.0  4.143529  0.292545  3.0  4.000  4.20  4.300  4.7   \n",
      "EVENTS                17.0  4.341176  0.252633  3.7  4.300  4.40  4.500  4.6   \n",
      "FAMILY               984.0  4.179573  0.406333  1.6  4.000  4.30  4.500  4.9   \n",
      "FINANCE              129.0  4.233333  0.375694  2.3  4.100  4.30  4.500  4.8   \n",
      "FOOD_AND_DRINK        70.0  4.155714  0.405626  3.1  3.825  4.20  4.500  4.8   \n",
      "GAME                 808.0  4.288490  0.304861  2.7  4.200  4.30  4.500  4.9   \n",
      "HEALTH_AND_FITNESS   161.0  4.336025  0.447151  2.4  4.200  4.50  4.600  4.9   \n",
      "HOUSE_AND_HOME        50.0  4.158000  0.333864  3.4  4.000  4.20  4.400  4.8   \n",
      "LIBRARIES_AND_DEMO    32.0  4.193750  0.399950  3.1  4.075  4.25  4.500  4.7   \n",
      "LIFESTYLE            146.0  3.998630  0.587453  1.6  3.725  4.10  4.400  4.9   \n",
      "MAPS_AND_NAVIGATION   54.0  4.188889  0.430299  2.8  4.100  4.30  4.475  4.8   \n",
      "MEDICAL              105.0  4.199048  0.522107  2.6  4.000  4.30  4.600  4.9   \n",
      "NEWS_AND_MAGAZINES    96.0  4.114583  0.505336  1.7  4.000  4.20  4.400  4.7   \n",
      "PARENTING             30.0  4.376667  0.374795  3.7  4.025  4.50  4.700  4.9   \n",
      "PERSONALIZATION      149.0  4.308725  0.268865  3.4  4.100  4.30  4.500  4.8   \n",
      "PHOTOGRAPHY          185.0  4.202703  0.392654  2.5  4.000  4.30  4.400  4.8   \n",
      "PRODUCTIVITY         150.0  4.235333  0.355614  2.9  4.100  4.30  4.500  4.8   \n",
      "SHOPPING             145.0  4.234483  0.307630  3.1  4.100  4.30  4.500  4.7   \n",
      "SOCIAL               112.0  4.285714  0.316187  3.2  4.100  4.30  4.500  4.9   \n",
      "SPORTS               175.0  4.211429  0.364653  2.4  4.000  4.30  4.500  4.9   \n",
      "TOOLS                364.0  4.083791  0.489263  2.0  3.900  4.20  4.400  4.8   \n",
      "TRAVEL_AND_LOCAL      95.0  4.051579  0.464681  2.5  3.800  4.20  4.400  4.8   \n",
      "VIDEO_PLAYERS         76.0  4.180263  0.367340  3.3  3.900  4.20  4.425  4.8   \n",
      "WEATHER               42.0  4.278571  0.310417  3.5  4.200  4.35  4.500  4.8   \n",
      "\n",
      "                    Reviews                ...    Installs                \\\n",
      "                      count          mean  ...         75%           max   \n",
      "Category                                   ...                             \n",
      "ART_AND_DESIGN         38.0  2.283639e+04  ...    500000.0  1.000000e+07   \n",
      "AUTO_AND_VEHICLES      41.0  1.753139e+04  ...   1000000.0  1.000000e+07   \n",
      "BEAUTY                 20.0  9.198700e+03  ...   1000000.0  5.000000e+06   \n",
      "BOOKS_AND_REFERENCE    78.0  5.188078e+04  ...   1000000.0  1.000000e+07   \n",
      "BUSINESS              109.0  4.930876e+04  ...   1000000.0  1.000000e+08   \n",
      "COMICS                 30.0  1.933193e+04  ...   1000000.0  5.000000e+06   \n",
      "COMMUNICATION         134.0  8.731307e+05  ...  10000000.0  5.000000e+08   \n",
      "DATING                107.0  3.637865e+04  ...   1000000.0  1.000000e+07   \n",
      "EDUCATION             101.0  7.003744e+04  ...   5000000.0  1.000000e+07   \n",
      "ENTERTAINMENT          85.0  1.539758e+05  ...  10000000.0  1.000000e+08   \n",
      "EVENTS                 17.0  4.496471e+03  ...    100000.0  1.000000e+06   \n",
      "FAMILY                984.0  2.946289e+05  ...   5000000.0  5.000000e+08   \n",
      "FINANCE               129.0  7.774842e+04  ...   1000000.0  5.000000e+07   \n",
      "FOOD_AND_DRINK         70.0  6.122954e+04  ...   5000000.0  1.000000e+07   \n",
      "GAME                  808.0  1.662044e+06  ...  10000000.0  1.000000e+09   \n",
      "HEALTH_AND_FITNESS    161.0  5.679569e+04  ...   1000000.0  5.000000e+08   \n",
      "HOUSE_AND_HOME         50.0  3.287332e+04  ...   1000000.0  1.000000e+07   \n",
      "LIBRARIES_AND_DEMO     32.0  3.105228e+04  ...   1000000.0  1.000000e+07   \n",
      "LIFESTYLE             146.0  5.662873e+04  ...   1000000.0  1.000000e+08   \n",
      "MAPS_AND_NAVIGATION    54.0  6.781776e+04  ...   4000000.0  5.000000e+07   \n",
      "MEDICAL               105.0  1.234250e+04  ...    500000.0  5.000000e+06   \n",
      "NEWS_AND_MAGAZINES     96.0  1.019602e+05  ...   5000000.0  1.000000e+09   \n",
      "PARENTING              30.0  2.930110e+04  ...   1000000.0  1.000000e+07   \n",
      "PERSONALIZATION       149.0  2.264826e+05  ...   5000000.0  1.000000e+08   \n",
      "PHOTOGRAPHY           185.0  4.131583e+05  ...  10000000.0  1.000000e+08   \n",
      "PRODUCTIVITY          150.0  2.532308e+05  ...   5000000.0  1.000000e+08   \n",
      "SHOPPING              145.0  3.237483e+05  ...  10000000.0  1.000000e+08   \n",
      "SOCIAL                112.0  2.327520e+05  ...  10000000.0  1.000000e+08   \n",
      "SPORTS                175.0  3.003018e+05  ...   5000000.0  1.000000e+08   \n",
      "TOOLS                 364.0  2.886674e+05  ...   5000000.0  5.000000e+08   \n",
      "TRAVEL_AND_LOCAL       95.0  7.335834e+04  ...   5000000.0  1.000000e+07   \n",
      "VIDEO_PLAYERS          76.0  3.023177e+05  ...  10000000.0  1.000000e+08   \n",
      "WEATHER                42.0  8.364724e+04  ...   1000000.0  5.000000e+07   \n",
      "\n",
      "                     Price                                                   \n",
      "                     count      mean        std  min  25%  50%  75%     max  \n",
      "Category                                                                     \n",
      "ART_AND_DESIGN        38.0  0.000000   0.000000  0.0  0.0  0.0  0.0    0.00  \n",
      "AUTO_AND_VEHICLES     41.0  0.000000   0.000000  0.0  0.0  0.0  0.0    0.00  \n",
      "BEAUTY                20.0  0.000000   0.000000  0.0  0.0  0.0  0.0    0.00  \n",
      "BOOKS_AND_REFERENCE   78.0  0.000000   0.000000  0.0  0.0  0.0  0.0    0.00  \n",
      "BUSINESS             109.0  0.183119   0.942541  0.0  0.0  0.0  0.0    4.99  \n",
      "COMICS                30.0  0.000000   0.000000  0.0  0.0  0.0  0.0    0.00  \n",
      "COMMUNICATION        134.0  0.051418   0.424581  0.0  0.0  0.0  0.0    3.99  \n",
      "DATING               107.0  0.000000   0.000000  0.0  0.0  0.0  0.0    0.00  \n",
      "EDUCATION            101.0  0.079010   0.558656  0.0  0.0  0.0  0.0    3.99  \n",
      "ENTERTAINMENT         85.0  0.035176   0.324311  0.0  0.0  0.0  0.0    2.99  \n",
      "EVENTS                17.0  0.000000   0.000000  0.0  0.0  0.0  0.0    0.00  \n",
      "FAMILY               984.0  0.202083   1.270982  0.0  0.0  0.0  0.0   19.99  \n",
      "FINANCE              129.0  3.123876  35.216083  0.0  0.0  0.0  0.0  399.99  \n",
      "FOOD_AND_DRINK        70.0  0.071286   0.596419  0.0  0.0  0.0  0.0    4.99  \n",
      "GAME                 808.0  0.139431   0.795772  0.0  0.0  0.0  0.0    9.99  \n",
      "HEALTH_AND_FITNESS   161.0  0.052609   0.392386  0.0  0.0  0.0  0.0    3.49  \n",
      "HOUSE_AND_HOME        50.0  0.000000   0.000000  0.0  0.0  0.0  0.0    0.00  \n",
      "LIBRARIES_AND_DEMO    32.0  0.000000   0.000000  0.0  0.0  0.0  0.0    0.00  \n",
      "LIFESTYLE            146.0  2.780685  33.103701  0.0  0.0  0.0  0.0  399.99  \n",
      "MAPS_AND_NAVIGATION   54.0  0.000000   0.000000  0.0  0.0  0.0  0.0    0.00  \n",
      "MEDICAL              105.0  1.142286   4.594054  0.0  0.0  0.0  0.0   24.99  \n",
      "NEWS_AND_MAGAZINES    96.0  0.000000   0.000000  0.0  0.0  0.0  0.0    0.00  \n",
      "PARENTING             30.0  0.166333   0.911045  0.0  0.0  0.0  0.0    4.99  \n",
      "PERSONALIZATION      149.0  0.146980   0.633214  0.0  0.0  0.0  0.0    4.99  \n",
      "PHOTOGRAPHY          185.0  0.137514   0.821724  0.0  0.0  0.0  0.0    5.99  \n",
      "PRODUCTIVITY         150.0  0.093000   0.536726  0.0  0.0  0.0  0.0    4.49  \n",
      "SHOPPING             145.0  0.000000   0.000000  0.0  0.0  0.0  0.0    0.00  \n",
      "SOCIAL               112.0  0.000000   0.000000  0.0  0.0  0.0  0.0    0.00  \n",
      "SPORTS               175.0  0.182743   2.271154  0.0  0.0  0.0  0.0   29.99  \n",
      "TOOLS                364.0  0.030137   0.335871  0.0  0.0  0.0  0.0    4.49  \n",
      "TRAVEL_AND_LOCAL      95.0  0.026211   0.255469  0.0  0.0  0.0  0.0    2.49  \n",
      "VIDEO_PLAYERS         76.0  0.000000   0.000000  0.0  0.0  0.0  0.0    0.00  \n",
      "WEATHER               42.0  0.273095   1.010770  0.0  0.0  0.0  0.0    4.49  \n",
      "\n",
      "[33 rows x 32 columns]\n"
     ]
    }
   ],
   "source": [
    "#Part 3.1: Analysis\n",
    "print(df.groupby('Category').describe())"
   ]
  },
  {
   "cell_type": "code",
   "execution_count": 151,
   "metadata": {},
   "outputs": [
    {
     "name": "stdout",
     "output_type": "stream",
     "text": [
      "            Category                                                App  \\\n",
      "0  AUTO_AND_VEHICLES  Tickets SDA 2018 and Exam from the State Traff...   \n",
      "1  AUTO_AND_VEHICLES                     CDL Practice Test 2018 Edition   \n",
      "2  AUTO_AND_VEHICLES              DMV Permit Practice Test 2018 Edition   \n",
      "\n",
      "   Rating  \n",
      "0     4.9  \n",
      "1     4.9  \n",
      "2     4.9  \n",
      "  Category             App    Installs\n",
      "0     GAME  Subway Surfers  1000000000\n",
      "1     GAME  Subway Surfers  1000000000\n",
      "2     GAME  Subway Surfers  1000000000\n",
      "  Category             App   Reviews\n",
      "0     GAME  Clash of Clans  44893888\n",
      "1     GAME  Clash of Clans  44891723\n",
      "2     GAME  Clash of Clans  44891723\n"
     ]
    },
    {
     "name": "stderr",
     "output_type": "stream",
     "text": [
      "/tmp/ipykernel_11381/180335734.py:13: FutureWarning: The frame.append method is deprecated and will be removed from pandas in a future version. Use pandas.concat instead.\n",
      "  df_to_return = df_to_return.append(dict, ignore_index = True)\n",
      "/tmp/ipykernel_11381/180335734.py:13: FutureWarning: The frame.append method is deprecated and will be removed from pandas in a future version. Use pandas.concat instead.\n",
      "  df_to_return = df_to_return.append(dict, ignore_index = True)\n",
      "/tmp/ipykernel_11381/180335734.py:13: FutureWarning: The frame.append method is deprecated and will be removed from pandas in a future version. Use pandas.concat instead.\n",
      "  df_to_return = df_to_return.append(dict, ignore_index = True)\n",
      "/tmp/ipykernel_11381/180335734.py:13: FutureWarning: The frame.append method is deprecated and will be removed from pandas in a future version. Use pandas.concat instead.\n",
      "  df_to_return = df_to_return.append(dict, ignore_index = True)\n",
      "/tmp/ipykernel_11381/180335734.py:13: FutureWarning: The frame.append method is deprecated and will be removed from pandas in a future version. Use pandas.concat instead.\n",
      "  df_to_return = df_to_return.append(dict, ignore_index = True)\n",
      "/tmp/ipykernel_11381/180335734.py:13: FutureWarning: The frame.append method is deprecated and will be removed from pandas in a future version. Use pandas.concat instead.\n",
      "  df_to_return = df_to_return.append(dict, ignore_index = True)\n",
      "/tmp/ipykernel_11381/180335734.py:13: FutureWarning: The frame.append method is deprecated and will be removed from pandas in a future version. Use pandas.concat instead.\n",
      "  df_to_return = df_to_return.append(dict, ignore_index = True)\n",
      "/tmp/ipykernel_11381/180335734.py:13: FutureWarning: The frame.append method is deprecated and will be removed from pandas in a future version. Use pandas.concat instead.\n",
      "  df_to_return = df_to_return.append(dict, ignore_index = True)\n",
      "/tmp/ipykernel_11381/180335734.py:13: FutureWarning: The frame.append method is deprecated and will be removed from pandas in a future version. Use pandas.concat instead.\n",
      "  df_to_return = df_to_return.append(dict, ignore_index = True)\n"
     ]
    }
   ],
   "source": [
    "#Part 3.2: Analysis\n",
    "def extract(column_name):\n",
    "    df_to_return = pd.DataFrame(data=None, columns = ['Category', 'App', column_name])\n",
    "    highest = free_df[column_name].nlargest(3)\n",
    "   \n",
    "    for ind in highest.index:\n",
    "        dict = {\n",
    "            'Category': free_df['Category'][ind],\n",
    "            'App': free_df['App'][ind],\n",
    "            column_name: free_df[column_name][ind]\n",
    "        }\n",
    "        \n",
    "        df_to_return = df_to_return.append(dict, ignore_index = True)\n",
    "    return df_to_return\n",
    "\n",
    "\n",
    "free_df = df[df['Type'] == 'Free']\n",
    "ratingDF = extract('Rating')\n",
    "print(ratingDF)\n",
    "installsDF = extract('Installs')\n",
    "print(installsDF)\n",
    "reviewsDF = extract('Reviews')\n",
    "print(reviewsDF)\n",
    "    "
   ]
  },
  {
   "cell_type": "code",
   "execution_count": 154,
   "metadata": {},
   "outputs": [
    {
     "name": "stdout",
     "output_type": "stream",
     "text": [
      "10.638195488721806\n",
      "399.99\n",
      "0.99\n"
     ]
    }
   ],
   "source": [
    "#Part 3.3\n",
    "\n",
    "paid_df = df[df['Type'] != 'Free']\n",
    "print(paid_df['Price'].mean())\n",
    "print(paid_df['Price'].max())\n",
    "print(paid_df['Price'].min())"
   ]
  },
  {
   "cell_type": "code",
   "execution_count": 157,
   "metadata": {},
   "outputs": [
    {
     "name": "stdout",
     "output_type": "stream",
     "text": [
      "234                    Business\n",
      "235                    Business\n",
      "290                    Business\n",
      "291                    Business\n",
      "853      Education;Pretend Play\n",
      "                  ...          \n",
      "10039           Personalization\n",
      "10072             Communication\n",
      "10122              Productivity\n",
      "10531                     Tools\n",
      "10682                    Arcade\n",
      "Name: Genres, Length: 133, dtype: object\n"
     ]
    }
   ],
   "source": [
    "#Part 3.1: Visualization\n",
    "\n",
    "print(df['Genres']) \n",
    "\n"
   ]
  }
 ],
 "metadata": {
  "kernelspec": {
   "display_name": "Python 3.8.10 64-bit",
   "language": "python",
   "name": "python3"
  },
  "language_info": {
   "codemirror_mode": {
    "name": "ipython",
    "version": 3
   },
   "file_extension": ".py",
   "mimetype": "text/x-python",
   "name": "python",
   "nbconvert_exporter": "python",
   "pygments_lexer": "ipython3",
   "version": "3.8.10"
  },
  "orig_nbformat": 4,
  "vscode": {
   "interpreter": {
    "hash": "916dbcbb3f70747c44a77c7bcd40155683ae19c65e1c03b4aa3499c5328201f1"
   }
  }
 },
 "nbformat": 4,
 "nbformat_minor": 2
}
