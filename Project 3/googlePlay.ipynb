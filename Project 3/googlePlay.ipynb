{
 "cells": [
  {
   "cell_type": "code",
   "execution_count": 82,
   "metadata": {},
   "outputs": [
    {
     "name": "stdout",
     "output_type": "stream",
     "text": [
      "hit\n"
     ]
    }
   ],
   "source": [
    "#Part 3.1\n",
    "import pandas as pd\n",
    "import numpy as np\n",
    "\n",
    "df = pd.read_excel('GooglePlaystore.xlsx')\n",
    "\n",
    "for ind in df.index:\n",
    "    if df['Reviews'][ind] == '3.0M':\n",
    "        print('hit')\n",
    "        df.drop(ind, axis =0, inplace= True)\n"
   ]
  },
  {
   "cell_type": "code",
   "execution_count": 83,
   "metadata": {},
   "outputs": [],
   "source": [
    "#Part 3.2\n",
    "df = df.replace(\"Varies with device\", np.nan).dropna(axis=0, how='any')\n",
    "\n"
   ]
  },
  {
   "cell_type": "code",
   "execution_count": 84,
   "metadata": {},
   "outputs": [
    {
     "name": "stderr",
     "output_type": "stream",
     "text": [
      "/tmp/ipykernel_11381/2813006102.py:3: FutureWarning: The default value of regex will change from True to False in a future version. In addition, single character regular expressions will *not* be treated as literal strings when regex=True.\n",
      "  df['Installs'] = df['Installs'].str.replace(\"+\", \"\")\n"
     ]
    }
   ],
   "source": [
    "#Part 3.4\n",
    "\n",
    "df['Installs'] = df['Installs'].str.replace(\"+\", \"\")\n",
    "df['Installs'] = df['Installs'].str.replace(',', '')\n",
    "df['Installs'] = pd.to_numeric(df['Installs'], errors='coerce')\n",
    "df = df[df.notnull()]\n",
    "\n"
   ]
  },
  {
   "cell_type": "code",
   "execution_count": 85,
   "metadata": {},
   "outputs": [
    {
     "name": "stdout",
     "output_type": "stream",
     "text": [
      "1         14M\n",
      "2        8.7M\n",
      "4        2.8M\n",
      "5        5.6M\n",
      "6         19M\n",
      "         ... \n",
      "10814     31M\n",
      "10815    4.9M\n",
      "10817    8.0M\n",
      "10830    2.3M\n",
      "10832    582k\n",
      "Name: Size, Length: 4918, dtype: object\n",
      "1        14000000.0\n",
      "2         8700000.0\n",
      "4         2800000.0\n",
      "5         5600000.0\n",
      "6        19000000.0\n",
      "            ...    \n",
      "10814    31000000.0\n",
      "10815     4900000.0\n",
      "10817     8000000.0\n",
      "10830     2300000.0\n",
      "10832          582k\n",
      "Name: Size, Length: 4918, dtype: object\n"
     ]
    }
   ],
   "source": [
    "#Part 3.5 and 3.6\n",
    "\n",
    "avgInstallsByCategory = df.groupby('Category')['Installs'].mean().round(2)\n",
    "\n",
    "df = df[(df['Installs'] >= 50000) & (df['Reviews'] >= 100)]\n",
    "\n",
    "for ind in df.index:\n",
    "    if np.isnan(df['Installs'][ind]):\n",
    "        df.at[ind, 'Installs'] = avgInstallsByCategory[df['Category'][ind]]\n",
    "\n",
    "print(df['Size'])\n",
    "\n",
    "for ind in df.index:\n",
    "    if df['Size'][ind].endswith(\"M\"):\n",
    "        df.at[ind, 'Size'] = float(df['Size'][ind][:-1]) * 10 ** 6\n",
    "    elif df['Size'][ind].endswith(\"K\"):\n",
    "        df.at[ind, 'Size'] = float(df['Size'][ind][:-1]) * 10 ** 3\n",
    "\n",
    "\n",
    "\n",
    "\n",
    "\n",
    "print(df['Size'])\n"
   ]
  }
 ],
 "metadata": {
  "kernelspec": {
   "display_name": "Python 3.8.10 64-bit",
   "language": "python",
   "name": "python3"
  },
  "language_info": {
   "codemirror_mode": {
    "name": "ipython",
    "version": 3
   },
   "file_extension": ".py",
   "mimetype": "text/x-python",
   "name": "python",
   "nbconvert_exporter": "python",
   "pygments_lexer": "ipython3",
   "version": "3.8.10"
  },
  "orig_nbformat": 4,
  "vscode": {
   "interpreter": {
    "hash": "916dbcbb3f70747c44a77c7bcd40155683ae19c65e1c03b4aa3499c5328201f1"
   }
  }
 },
 "nbformat": 4,
 "nbformat_minor": 2
}
